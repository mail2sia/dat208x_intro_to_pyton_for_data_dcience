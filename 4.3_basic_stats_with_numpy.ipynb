{
 "cells": [
  {
   "cell_type": "markdown",
   "metadata": {},
   "source": [
    "# Introduction to Python for Data Science - Chapter 11 Numpy Basic Statistics \n",
    "\n",
    "<https://courses.edx.org/courses/course-v1:Microsoft+DAT208x+1T2018/course/>\n",
    "\n",
    "<https://www.datacamp.com/courses/introduction-to-python-for-data-science-edx>\n",
    "\n",
    "## 1. Average versus median\n",
    "\n",
    "You now know how to use Numpy functions to a get a better feeling for your data. It basically comes down to importing Numpy and then calling several simple functions on the Numpy arrays:\n",
    "```\n",
    "import numpy as np\n",
    "x = [1, 4, 8, 10, 12]\n",
    "np.mean(x)\n",
    "np.median(x)\n",
    "```\n",
    "The baseball data is available as a 2D Numpy array with 3 columns (height, weight, age) and 1015 rows. The name of this Numpy array is ```np_baseball```. After restructuring the data, however, you notice that some height values are abnormally high. Follow the instructions and discover which summary statistic is best suited if you're dealing with so-called outliers.\n",
    "\n",
    "### Instructions\n",
    "* Create Numpy array ```np_height```, that is equal to first column of ```np_baseball```.\n",
    "* Print out the mean of ```np_height```.\n",
    "* Print out the median of ```np_height```.\n"
   ]
  },
  {
   "cell_type": "code",
   "execution_count": 10,
   "metadata": {},
   "outputs": [
    {
     "name": "stdout",
     "output_type": "stream",
     "text": [
      "1.74328\n",
      "1.74\n"
     ]
    }
   ],
   "source": [
    "# Import numpy\n",
    "import numpy as np\n",
    "\n",
    "# np_baseball is available\n",
    "height = np.round(np.random.normal(1.75, 0.20, 500), 2)\n",
    "weight = np.round(np.random.normal(60.32, 15, 500), 2)\n",
    "age = np.round(np.random.normal(30, 15, 500), 2)\n",
    "\n",
    "baseball = np.column_stack((height, weight, age))\n",
    "\n",
    "np_baseball = np.array(baseball)\n",
    "\n",
    "#print(height)\n",
    "#print(weight)\n",
    "#print(age)\n",
    "#print(np_baseball)\n",
    "\n",
    "# Create np_height from np_baseball\n",
    "np_height = np_baseball[:,0]\n",
    "\n",
    "#print(np_height)\n",
    "\n",
    "# Print out the mean of np_height\n",
    "print(np.mean(np_height))\n",
    "\n",
    "# Print out the median of np_height\n",
    "print(np.median(np_height))"
   ]
  },
  {
   "cell_type": "markdown",
   "metadata": {},
   "source": [
    "## 2. Explore the baseball data\n",
    "Because the mean and median are so far apart, you decide to complain to the MLB. They find the error and send the corrected data over to you. It's again available as a 2D Numpy array ```np_baseball```, with three columns.\n",
    "\n",
    "The Python script on the right already includes code to print out informative messages with the different summary statistics. Can you finish the job?\n",
    "\n",
    "### Instructions\n",
    "* The code to print out the mean height is already included. Complete the code for the median height. Replace ```None``` with the correct code.\n",
    "* Use ```np.std()``` on the first column of ```np_baseball``` to calculate ```stddev```. Replace ```None``` with the correct code.\n",
    "* Do big players tend to be heavier? Use ```np.corrcoef()``` to store the correlation between the first and second column of ```np_baseball``` in ```corr```. Replace ```None``` with the correct code.\n"
   ]
  },
  {
   "cell_type": "code",
   "execution_count": 6,
   "metadata": {},
   "outputs": [
    {
     "name": "stdout",
     "output_type": "stream",
     "text": [
      "Average: 1.7635\n",
      "Median: 1.75\n",
      "Standard Deviation: 0.200677726716\n",
      "Correlation: [[ 1.        -0.0718727]\n",
      " [-0.0718727  1.       ]]\n"
     ]
    }
   ],
   "source": [
    "# np_baseball is available\n",
    "height = np.round(np.random.normal(1.75, 0.20, 500), 2)\n",
    "weight = np.round(np.random.normal(60.32, 15, 500), 2)\n",
    "age = np.round(np.random.normal(30, 15, 500), 2)\n",
    "\n",
    "baseball = np.column_stack((height, weight, age))\n",
    "\n",
    "np_baseball = np.array(baseball)\n",
    "\n",
    "# Import numpy\n",
    "import numpy as np\n",
    "\n",
    "# Print mean height (first column)\n",
    "avg = np.mean(np_baseball[:,0])\n",
    "print(\"Average: \" + str(avg))\n",
    "\n",
    "# Print median height. Replace 'None'\n",
    "med =  np.median(np_baseball[:,0])\n",
    "print(\"Median: \" + str(med))\n",
    "\n",
    "# Print out the standard deviation on height. Replace 'None'\n",
    "stddev = np.std(np_baseball[:,0])\n",
    "print(\"Standard Deviation: \" + str(stddev))\n",
    "\n",
    "# Print out correlation between first and second column. Replace 'None'\n",
    "corr = np.corrcoef(np_baseball[:,0], np_baseball[:,1])\n",
    "print(\"Correlation: \" + str(corr))"
   ]
  },
  {
   "cell_type": "markdown",
   "metadata": {},
   "source": [
    "## 3. Blend it all together\n",
    "\n",
    "In the last few exercises you've learned everything there is to know about heights and weights of baseball players. Now it's time to dive into another sport: soccer.\n",
    "\n",
    "You've contacted the FIFA for some data and they handed you two lists. The lists are the following: positions = ['GK', 'M', 'A', 'D', ...] heights = [191, 184, 185, 180, ...] Each element in the lists corresponds to a player. The first list, positions, contains strings representing each player's position. The possible positions are: 'GK' (goalkeeper), 'M' (midfield), 'A' (attack) and 'D' (defense). The second list, heights, contains integers representing the height of the player in cm. The first player in the lists is a goalkeeper and is pretty tall (191 cm).\n",
    "\n",
    "You're fairly confident that the median height of goalkeepers is higher than that of other players on the soccer field. Some of your friends don't believe you, so you are determined to show them using the data you received from FIFA and your newly acquired Python skills.\n",
    "\n",
    "### Instructions\n",
    "    Convert heights and positions, which are regular lists, to numpy arrays. Call them np_heights and np_positions.\n",
    "    Extract all the heights of the goalkeepers. You can use a little trick here: use np_positions == 'GK' as an index for np_heights. Assign the result to gk_heights.\n",
    "    Extract all the heights of the all the other players. This time use np_positions != 'GK' as an index for np_heights. Assign the result to other_heights.\n",
    "    Print out the median height of the goalkeepers using np.median(). Replace None with the correct code.\n",
    "    Do the same for the other players. Print out their median height. Replace None with the correct code.\n"
   ]
  },
  {
   "cell_type": "code",
   "execution_count": null,
   "metadata": {},
   "outputs": [],
   "source": [
    "# heights and positions are available as lists\n",
    "heights = []\n",
    "positions = []\n",
    "\n",
    "# Import numpy\n",
    "import numpy as np\n",
    "\n",
    "# Convert positions and heights to numpy arrays: np_positions, np_heights\n",
    "\n",
    "\n",
    "\n",
    "# Heights of the goalkeepers: gk_heights\n",
    "\n",
    "\n",
    "# Heights of the other players: other_heights\n",
    "\n",
    "\n",
    "# Print out the median height of goalkeepers. Replace 'None'\n",
    "print(\"Median height of goalkeepers: \" + str(None))\n",
    "\n",
    "# Print out the median height of other players. Replace 'None'\n",
    "print(\"Median height of other players: \" + str(None))"
   ]
  }
 ],
 "metadata": {
  "kernelspec": {
   "display_name": "Python 3",
   "language": "python",
   "name": "python3"
  },
  "language_info": {
   "codemirror_mode": {
    "name": "ipython",
    "version": 3
   },
   "file_extension": ".py",
   "mimetype": "text/x-python",
   "name": "python",
   "nbconvert_exporter": "python",
   "pygments_lexer": "ipython3",
   "version": "3.6.3"
  }
 },
 "nbformat": 4,
 "nbformat_minor": 2
}
