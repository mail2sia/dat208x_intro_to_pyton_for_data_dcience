{
 "cells": [
  {
   "cell_type": "markdown",
   "metadata": {},
   "source": [
    "# Introduction to Python for Data Science - Chapter 10\n",
    "\n",
    "<https://courses.edx.org/courses/course-v1:Microsoft+DAT208x+1T2018/course/>\n",
    "\n",
    "<https://www.datacamp.com/courses/introduction-to-python-for-data-science-edx>\n",
    "\n",
    "## 1. Average versus median\n",
    "\n",
    "You now know how to use Numpy functions to a get a better feeling for your data. It basically comes down to importing Numpy and then calling several simple functions on the Numpy arrays:\n",
    "```\n",
    "import numpy as np\n",
    "x = [1, 4, 8, 10, 12]\n",
    "np.mean(x)\n",
    "np.median(x)\n",
    "```\n",
    "The baseball data is available as a 2D Numpy array with 3 columns (height, weight, age) and 1015 rows. The name of this Numpy array is ```np_baseball```. After restructuring the data, however, you notice that some height values are abnormally high. Follow the instructions and discover which summary statistic is best suited if you're dealing with so-called outliers.\n",
    "\n",
    "### Instructions\n",
    "* Create Numpy array ```np_height```, that is equal to first column of ```np_baseball```.\n",
    "* Print out the mean of ```np_height```.\n",
    "* Print out the median of ```np_height```.\n"
   ]
  },
  {
   "cell_type": "code",
   "execution_count": 6,
   "metadata": {},
   "outputs": [],
   "source": [
    "# Import numpy\n",
    "import numpy as np\n",
    "\n",
    "# np_baseball is available\n",
    "height = np.round(np.random.normal(1.75, 0.20, 500), 2)\n",
    "weight = np.round(np.random.normal(60.32, 15, 500), 2)\n",
    "age = np.round(np.random.normal(30, 15, 500), 2)\n",
    "\n",
    "baseball = np.column_stack((height, weight, age))\n",
    "\n",
    "np_baseball = np.array(baseball)\n",
    "\n",
    "#print(height)\n",
    "#print(weight)\n",
    "#print(age)\n",
    "#print(np_baseball)\n",
    "\n",
    "# Create np_height from np_baseball\n",
    "np_height = np_baseball[0,:]\n",
    "\n",
    "print(np_height)\n",
    "\n",
    "# Print out the mean of np_height\n",
    "\n",
    "\n",
    "# Print out the median of np_height"
   ]
  }
 ],
 "metadata": {
  "kernelspec": {
   "display_name": "Python 3",
   "language": "python",
   "name": "python3"
  },
  "language_info": {
   "codemirror_mode": {
    "name": "ipython",
    "version": 3
   },
   "file_extension": ".py",
   "mimetype": "text/x-python",
   "name": "python",
   "nbconvert_exporter": "python",
   "pygments_lexer": "ipython3",
   "version": "3.6.3"
  }
 },
 "nbformat": 4,
 "nbformat_minor": 2
}
