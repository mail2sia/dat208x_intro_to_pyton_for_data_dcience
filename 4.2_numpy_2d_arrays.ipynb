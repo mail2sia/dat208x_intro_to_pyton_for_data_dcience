{
 "cells": [
  {
   "cell_type": "markdown",
   "metadata": {},
   "source": [
    "# 4.2 2D Numpy Arrays \n",
    "# Introduction to Python for Data Science - Chapter 10 2D Numpy Arrays \n",
    "<https://courses.edx.org/courses/course-v1:Microsoft+DAT208x+1T2018/course/>\n",
    "\n",
    "<https://www.datacamp.com/courses/introduction-to-python-for-data-science-edx>\n",
    "\n",
    "## 1. our First 2D Numpy Array\n",
    "\n",
    "Before working on the actual MLB data, let's try to create a 2D Numpy array from a small list of lists.\n",
    "\n",
    "In this exercise, ```baseball``` is a list of lists. The main list contains 4 elements. Each of these elements is a list containing the height and the weight of 4 baseball players, in this order. ```baseball``` is already coded for you in the script.\n",
    "\n",
    "### Instructions\n",
    "* Use ```np.array()``` to create a 2D Numpy array from ```baseball```. Name it ```np_baseball```.\n",
    "* Print out the type of ```np_baseball```.\n",
    "* Print out the ```shape``` attribute of ```np_baseball```. Use ```np_baseball.shape```.\n"
   ]
  },
  {
   "cell_type": "code",
   "execution_count": 6,
   "metadata": {},
   "outputs": [
    {
     "name": "stdout",
     "output_type": "stream",
     "text": [
      "<class 'numpy.ndarray'>\n",
      "(4, 2)\n"
     ]
    }
   ],
   "source": [
    "# Create baseball, a list of lists\n",
    "baseball = [[180, 78.4],\n",
    "            [215, 102.7],\n",
    "            [210, 98.5],\n",
    "            [188, 75.2]]\n",
    "\n",
    "# Import numpy\n",
    "import numpy as np\n",
    "\n",
    "# Create a 2D Numpy array from baseball: np_baseball\n",
    "np_baseball = np.array(baseball)\n",
    "\n",
    "# Print out the type of np_baseball\n",
    "print(type(np_baseball))\n",
    "\n",
    "# Print out the shape of np_baseball\n",
    "print(np_baseball.shape)"
   ]
  },
  {
   "cell_type": "markdown",
   "metadata": {},
   "source": [
    "## 2. Baseball data in 2D form\n",
    "You have another look at the MLB data and realize that it makes more sense to restructure all this information in a 2D Numpy array. This array should have 1015 rows, corresponding to the 1015 baseball players you have information on, and 2 columns (for height and weight).\n",
    "\n",
    "The MLB was, again, very helpful and passed you the data in a different structure, a Python list of lists. In this list of lists, each sublist represents the height and weight of a single baseball player. The name of this embedded list is ```baseball```.\n",
    "\n",
    "Can you store the data as a 2D array to unlock Numpy's extra functionality?\n",
    "\n",
    "### Instructions\n",
    "* Use ```np.array()``` to create a 2D Numpy array from ```baseball```. Name it ```np_baseball```.\n",
    "* Print out the ```shape``` attribute of ```np_baseball```.\n"
   ]
  },
  {
   "cell_type": "code",
   "execution_count": 7,
   "metadata": {},
   "outputs": [
    {
     "name": "stdout",
     "output_type": "stream",
     "text": [
      "(45, 2)\n"
     ]
    }
   ],
   "source": [
    "# baseball is available as a regular list of lists\n",
    "baseball = [[74, 180], [74, 215], [72, 210], [72, 210], [73, 188], [69, 176], [69, 209], [71, 200], [76, 231], [71, 180], \n",
    "            [73, 188], [73, 180], [74, 185], [74, 160], [69, 180], [70, 185], [73, 189], [75, 185], [78, 219], [79, 230], \n",
    "            [76, 205], [74, 230], [76, 195], [72, 180], [71, 192], [75, 225], [77, 203], [74, 195], [73, 182], [74, 188], \n",
    "            [78, 200], [73, 180], [75, 200], [73, 200], [75, 245], [75, 240], [74, 215], [69, 185], [71, 175], [74, 199], \n",
    "            [73, 200], [73, 215], [76, 200], [74, 205], [74, 206]\n",
    "]\n",
    "# Import numpy package\n",
    "import numpy as np\n",
    "\n",
    "# Create a 2D Numpy array from baseball: np_baseball\n",
    "np_baseball = np.array(baseball)\n",
    "\n",
    "# Print out the shape of np_baseball\n",
    "print(np_baseball.shape)"
   ]
  },
  {
   "cell_type": "markdown",
   "metadata": {},
   "source": [
    "## 3. Subsetting 2D Numpy Arrays\n",
    "If your 2D Numpy array has a regular structure, i.e. each row and column has a fixed number of values, complicated ways of subsetting become very easy. Have a look at the code below where the elements ```\"a\"``` and ```\"c\"``` are extracted from a list of lists.\n",
    "```\n",
    "# regular list of lists\n",
    "x = [[\"a\", \"b\"], [\"c\", \"d\"]]\n",
    "[x[0][0], x[1][0]]\n",
    "\n",
    "# numpy\n",
    "import numpy as np\n",
    "np_x = np.array(x)\n",
    "np_x[:,0]\n",
    "```\n",
    "For regular Python lists, this is a real pain. For 2D Numpy arrays, however, it's pretty intuitive! The indexes before the comma refer to the rows, while those after the comma refer to the columns. The ```:``` is for slicing; in this example, it tells Python to include all rows.\n",
    "\n",
    "The code that converts the pre-loaded ```baseball``` list to a 2D Numpy array is already in the script. Add some lines to make the correct selections. Remember that in Python, the first element is at index 0!\n",
    "\n",
    "### Instructions\n",
    "* Print out the 50th row of ```np_baseball```.\n",
    "* Make a new variable, ```np_weight```, containing the entire second column of ```np_baseball```.\n",
    "* Select the height (first column) of the 124th baseball player in ```np_baseball``` and print it out.\n"
   ]
  },
  {
   "cell_type": "code",
   "execution_count": null,
   "metadata": {},
   "outputs": [],
   "source": [
    "# baseball is available as a regular list of lists\n",
    "baseball = [[74, 180],\n",
    " [74, 215],\n",
    " [72, 210],\n",
    " [72, 210],\n",
    " [73, 188],\n",
    " [69, 176],\n",
    " [69, 209],\n",
    " [71, 200],\n",
    " [76, 231],\n",
    " [71, 180],\n",
    " [73, 188],\n",
    " [73, 180],\n",
    "]\n",
    "\n",
    "# Import numpy package\n",
    "import numpy as np\n",
    "\n",
    "# Create np_baseball (2 cols)\n",
    "np_baseball = np.array(baseball)\n",
    "\n",
    "# Print out the 50th row of np_baseball\n",
    "print(np_baseball[49,:])\n",
    "\n",
    "# Select the entire second column of np_baseball: np_weight\n",
    "np_weight = np_baseball[:, 1]\n",
    "print(np_weight)\n",
    "\n",
    "# Print out height of 124th player\n",
    "print(np_baseball[123,0])"
   ]
  },
  {
   "cell_type": "markdown",
   "metadata": {},
   "source": [
    "## 4. 2D Arithmetic\n",
    "\n",
    "Remember how you calculated the Body Mass Index for all baseball players? Numpy was able to perform all calculations element-wise. For 2D Numpy arrays this isn't any different! You can combine matrices with single numbers, with vectors, and with other matrices.\n",
    "\n",
    "Execute the code below in the IPython shell and see if you understand:\n",
    "```\n",
    "import numpy as np\n",
    "np_mat = np.array([[1, 2],\n",
    "                   [3, 4],\n",
    "                   [5, 6]])\n",
    "np_mat * 2\n",
    "np_mat + np.array([10, 10])\n",
    "np_mat + np_mat\n",
    "```\n",
    "```np_baseball``` is coded for you; it's again a 2D Numpy array with 3 columns representing height, weight and age.\n",
    "\n",
    "### Instruction\n",
    "* You managed to get hold on the changes in weight, height and age of all baseball players. It is available as a 2D Numpy array, ```update```. Add ```np_baseball``` and ```update``` and print out the result.\n",
    "* You want to convert the units of height and weight. As a first step, create a Numpy array with three values: ```0.0254```, ```0.453592``` and ```1```. Name this array ```conversion```.\n",
    "* Multiply ```np_baseball``` with ```conversion``` and print out the result.\n"
   ]
  },
  {
   "cell_type": "code",
   "execution_count": 6,
   "metadata": {},
   "outputs": [
    {
     "name": "stdout",
     "output_type": "stream",
     "text": [
      "[[  75.2303559   168.83775102   23.99      ]\n",
      " [  75.02614252  231.09732309   35.69      ]\n",
      " [  73.1544228   215.08167641   31.78      ]\n",
      " [  73.09349925  214.23890778   36.43      ]\n",
      " [  73.82285669  170.21799965   36.71      ]\n",
      " [  69.99484223  184.14402711   30.39      ]]\n",
      "[[  1.8796    81.64656   22.99    ]\n",
      " [  1.8796    97.52228   34.69    ]\n",
      " [  1.8288    95.25432   30.78    ]\n",
      " [  1.8288    95.25432   35.43    ]\n",
      " [  1.8542    85.275296  35.71    ]\n",
      " [  1.7526    79.832192  29.39    ]]\n"
     ]
    }
   ],
   "source": [
    "# baseball is available as a regular list of lists\n",
    "# update is available as 2D Numpy array\n",
    "baseball = [\n",
    " [74.0, 180.0, 22.99],\n",
    " [74.0, 215.0, 34.69],\n",
    " [72.0, 210.0, 30.78],\n",
    " [72.0, 210.0, 35.43],\n",
    " [73.0, 188.0, 35.71],\n",
    " [69.0, 176.0, 29.39],\n",
    "]\n",
    "update = [\n",
    "       [  1.2303559 , -11.16224898,   1.],\n",
    "       [  1.02614252,  16.09732309,   1.],\n",
    "       [  1.1544228 ,   5.08167641,   1.],\n",
    "       [  1.09349925,   4.23890778,   1.],\n",
    "       [  0.82285669, -17.78200035,   1.],\n",
    "       [  0.99484223,   8.14402711,   1.]\n",
    "]\n",
    "\n",
    "# Import numpy package\n",
    "import numpy as np\n",
    "\n",
    "# Create np_baseball (3 cols)\n",
    "np_baseball = np.array(baseball)\n",
    "\n",
    "# Print out addition of np_baseball and update\n",
    "print(np_baseball + update)\n",
    "\n",
    "# Create Numpy array: conversion\n",
    "conversion = np.array([0.0254, 0.453592, 1])\n",
    "\n",
    "# Print out product of np_baseball and conversion\n",
    "print(np_baseball * conversion)"
   ]
  }
 ],
 "metadata": {
  "kernelspec": {
   "display_name": "Python 3",
   "language": "python",
   "name": "python3"
  },
  "language_info": {
   "codemirror_mode": {
    "name": "ipython",
    "version": 3
   },
   "file_extension": ".py",
   "mimetype": "text/x-python",
   "name": "python",
   "nbconvert_exporter": "python",
   "pygments_lexer": "ipython3",
   "version": "3.6.3"
  }
 },
 "nbformat": 4,
 "nbformat_minor": 2
}
