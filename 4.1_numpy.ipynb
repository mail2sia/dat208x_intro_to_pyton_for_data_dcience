{
 "cells": [
  {
   "cell_type": "markdown",
   "metadata": {},
   "source": [
    "# Introduction to Python for Data Science - Chapter 9 Numpy\n",
    "\n",
    "<https://courses.edx.org/courses/course-v1:Microsoft+DAT208x+1T2018/course/>\n",
    "\n",
    "<https://www.datacamp.com/courses/introduction-to-python-for-data-science-edx>\n",
    "\n",
    "## 1. Your First Numpy Array\n",
    "\n",
    "We're going to dive into the world of baseball. Along the way, you'll get comfortable with the basics of Numpy, a powerful package to do data science.\n",
    "\n",
    "A list ```baseball``` has already been defined in the Python script, representing the height of some baseball players in centimeters. Can you add some code here and there to create a Numpy array from it?\n",
    "\n",
    "### Instructions\n",
    "* Import the ```numpy``` package as ```np```, so that you can refer to ```numpy``` with ```np```.\n",
    "* Use ```np.array()``` to create a Numpy array from ```baseball```. Name this array ```np_baseball```.\n",
    "* Print out the type of ```np_baseball``` to check that you got it right.\n"
   ]
  },
  {
   "cell_type": "code",
   "execution_count": 8,
   "metadata": {},
   "outputs": [
    {
     "name": "stdout",
     "output_type": "stream",
     "text": [
      "<class 'numpy.ndarray'>\n"
     ]
    }
   ],
   "source": [
    "# Create list baseball\n",
    "baseball = [180, 215, 210, 210, 188, 176, 209, 200]\n",
    "\n",
    "# Import the numpy package as np\n",
    "import numpy as np\n",
    "\n",
    "# Create a Numpy array from baseball: np_baseball\n",
    "np_baseball = np.array(baseball)\n",
    "\n",
    "# Print out type of np_baseball\n",
    "print(type(np_baseball))"
   ]
  },
  {
   "cell_type": "markdown",
   "metadata": {},
   "source": [
    "## 2. Baseball players' height\n",
    "\n",
    "You are a huge baseball fan. You decide to call the MLB (Major League Baseball) and ask around for some more statistics on the height of the main players. They pass along data on more than a thousand players, which is stored as a regular Python list: ```height```. The height is expressed in inches. Can you make a Numpy array out of it and convert the units to centimeters?\n",
    "\n",
    "```height``` is already available and the ```numpy``` package is loaded, so you can start straight away (Source: stat.ucla.edu).\n",
    "\n",
    "### Instructions\n",
    "* Create a Numpy array from ```height```. Name this new array ```np_height```.\n",
    "* Print ```np_height```.\n",
    "* Multiply ```np_height``` with ```0.0254``` to convert all height measurements from inches to meters. Store the new values in a new array, ```np_height_m```.\n",
    "* Print out ```np_height_m``` and check if the output makes sense.\n"
   ]
  },
  {
   "cell_type": "code",
   "execution_count": 9,
   "metadata": {},
   "outputs": [
    {
     "name": "stdout",
     "output_type": "stream",
     "text": [
      "[74 74 72 72 73 69 69 71 76 71 73 73 74 74 69 70 73 75 78 79 76 74 76 72 71\n",
      " 75 77 74 73 78 73 75 73 75 75 74 69 71 74 73 73 76 74 74 70 72 77 74 70 73\n",
      " 75 76 76 78 74 74 76 77 81 78 75 77 75 76 74 72 72 75 73 73 73 70 70 70 76\n",
      " 68 71 72 75 75 75 75 68 74 78 71 73]\n",
      "[ 1.8796  1.8796  1.8288  1.8288  1.8542  1.7526  1.7526  1.8034  1.9304\n",
      "  1.8034  1.8542  1.8542  1.8796  1.8796  1.7526  1.778   1.8542  1.905\n",
      "  1.9812  2.0066  1.9304  1.8796  1.9304  1.8288  1.8034  1.905   1.9558\n",
      "  1.8796  1.8542  1.9812  1.8542  1.905   1.8542  1.905   1.905   1.8796\n",
      "  1.7526  1.8034  1.8796  1.8542  1.8542  1.9304  1.8796  1.8796  1.778\n",
      "  1.8288  1.9558  1.8796  1.778   1.8542  1.905   1.9304  1.9304  1.9812\n",
      "  1.8796  1.8796  1.9304  1.9558  2.0574  1.9812  1.905   1.9558  1.905\n",
      "  1.9304  1.8796  1.8288  1.8288  1.905   1.8542  1.8542  1.8542  1.778\n",
      "  1.778   1.778   1.9304  1.7272  1.8034  1.8288  1.905   1.905   1.905\n",
      "  1.905   1.7272  1.8796  1.9812  1.8034  1.8542]\n"
     ]
    }
   ],
   "source": [
    "# height is available as a regular list\n",
    "height = [74, 74, 72, 72, 73, 69, 69, 71, 76, 71, 73, 73, 74, 74, 69, 70, 73, 75, 78, 79, 76, 74, 76, 72, 71, 75, 77, 74, 73,\n",
    "          78, 73, 75, 73, 75, 75, 74, 69, 71, 74, 73, 73, 76, 74, 74, 70, 72, 77, 74, 70, 73, 75, 76, 76, 78, 74, 74, 76, 77,\n",
    "          81, 78, 75, 77, 75, 76, 74, 72, 72, 75, 73, 73, 73, 70, 70, 70, 76, 68, 71, 72, 75, 75, 75, 75, 68, 74, 78, 71, 73,\n",
    "]\n",
    "\n",
    "# Import numpy\n",
    "import numpy as np\n",
    "\n",
    "# Create a Numpy array from height: np_height\n",
    "np_height = np.array(height)\n",
    "\n",
    "# Print out np_height\n",
    "print(np_height)\n",
    "\n",
    "# Convert np_height to m: np_height_m\n",
    "np_height_m = np_height * 0.0254\n",
    "\n",
    "# Print np_height_m\n",
    "print(np_height_m)"
   ]
  },
  {
   "cell_type": "markdown",
   "metadata": {},
   "source": [
    "## 3. Baseball player's BMI\n",
    "\n",
    "The MLB also offers to let you analyze their weight data. Again, both are available as regular Python lists: ```height``` and ```weight```. ```height``` is in inches and ```weight``` is in pounds.\n",
    "\n",
    "It's now possible to calculate the BMI of each baseball player. Python code to convert ```height``` to a Numpy array with the correct units is already available in the workspace. Follow the instructions step by step and finish the game!\n",
    "\n",
    "### Instructions\n",
    "* Create a Numpy array from the ```weight``` list with the correct units. Multiply by ```0.453592``` to go from pounds to kilograms. Store the resulting Numpy array as ```np_weight_kg```.\n",
    "* Use ```np_height_m``` and ```np_weight_kg``` to calculate the BMI of each player. Use the following equation:\n",
    "    \n",
    "    BMI = weight(kg) / height(m)2\n",
    "\n",
    "Save the resulting numpy array as ```bmi```.\n",
    "* Print out ```bmi```."
   ]
  },
  {
   "cell_type": "code",
   "execution_count": 10,
   "metadata": {},
   "outputs": [
    {
     "name": "stdout",
     "output_type": "stream",
     "text": [
      "[ 23.11037639  27.60406069  28.48080465  28.48080465  24.80333518\n",
      "  25.99036864  30.86356276  27.89402921  28.11789135  25.10462629\n",
      "  24.80333518  23.7478741 ]\n"
     ]
    }
   ],
   "source": [
    "# height and weight are available as a regular lists\n",
    "height = [74, 74, 72, 72, 73, 69, 69, 71, 76, 71, 73, 73,]\n",
    "weight = [180, 215, 210, 210, 188, 176, 209, 200, 231, 180, 188, 180,]\n",
    "\n",
    "# Import numpy\n",
    "import numpy as np\n",
    "\n",
    "# Create array from height with correct units: np_height_m\n",
    "np_height_m = np.array(height) * 0.0254\n",
    "\n",
    "# Create array from weight with correct units: np_weight_kg\n",
    "np_weight_kg = np.array(weight) * 0.453592\n",
    "\n",
    "# Calculate the BMI: bmi\n",
    "bmi = np_weight_kg / np_height_m ** 2\n",
    "\n",
    "# Print out bmi\n",
    "print(bmi)"
   ]
  },
  {
   "cell_type": "markdown",
   "metadata": {},
   "source": [
    "## 4. Lightweight baseball players\n",
    "\n",
    "To subset both regular Python lists and Numpy arrays, you can use square brackets:\n",
    "```\n",
    "x = [4 , 9 , 6, 3, 1]\n",
    "x[1]\n",
    "import numpy as np\n",
    "y = np.array(x)\n",
    "y[1]\n",
    "```\n",
    "For Numpy specifically, you can also use boolean Numpy arrays:\n",
    "```\n",
    "high = y > 5\n",
    "y[high]\n",
    "```\n",
    "The code that calculates the BMI of all baseball players is already included. Follow the instructions and reveal interesting things from the data!\n",
    "\n",
    "### Instructions\n",
    "* Create a boolean Numpy array: the element of the array should be True if the corresponding baseball player's BMI is below 21. You can use the < operator for this. Name the array light.\n",
    "* Print the array light.\n",
    "* Print out a Numpy array with the BMIs of all baseball players whose BMI is below 21. Use light inside square brackets to do a selection on the bmi array.\n"
   ]
  },
  {
   "cell_type": "code",
   "execution_count": 12,
   "metadata": {},
   "outputs": [
    {
     "name": "stdout",
     "output_type": "stream",
     "text": [
      "[False False False False False False False False False False False False]\n",
      "[]\n"
     ]
    }
   ],
   "source": [
    "# height and weight are available as a regular lists\n",
    "height = [74, 74, 72, 72, 73, 69, 69, 71, 76, 71, 73, 73,]\n",
    "weight = [180, 215, 210, 210, 188, 176, 209, 200, 231, 180, 188, 180,]\n",
    "\n",
    "# Import numpy\n",
    "import numpy as np\n",
    "\n",
    "# Calculate the BMI: bmi\n",
    "np_height_m = np.array(height) * 0.0254\n",
    "np_weight_kg = np.array(weight) * 0.453592\n",
    "bmi = np_weight_kg / np_height_m ** 2\n",
    "\n",
    "# Create the light array\n",
    "light = np.array(bmi < 21)\n",
    "\n",
    "# Print out light\n",
    "print(light)\n",
    "\n",
    "# Print out BMIs of all baseball players whose BMI is below 21\n",
    "print(bmi[light])"
   ]
  },
  {
   "cell_type": "markdown",
   "metadata": {},
   "source": [
    "## 5. Numpy Side Effects\n",
    "\n",
    "As Filip explained before, Numpy is great to do vector arithmetic. If you compare its functionality with regular Python lists, however, some things have changed.\n",
    "\n",
    "First of all, Numpy arrays cannot contain elements with different types. If you try to build such a list, some of the elments' types are changed to end up with a homogenous list. This is known as type coercion.\n",
    "\n",
    "Second, the typical arithmetic operators, such as ```+```, ```-```, ```*``` and ```/``` have a different meaning for regular Python lists and Numpy arrays.\n",
    "\n",
    "Have a look at this line of code:\n",
    "```\n",
    "np.array([True, 1, 2]) + np.array([3, 4, False])\n",
    "```\n",
    "Can you tell which code chunk builds the exact same Python data structure? The Numpy package is already imported as ```np```, so you can start experimenting in the IPython Shell straight away!\n",
    "\n",
    "### Instructions\n",
    "\n",
    "#### Possible Answers\n",
    "* ```np.array([True, 1, 2, 3, 4, False])```\n",
    "* ```np.array([4, 3, 0]) + np.array([0, 2, 2])```\n",
    "* ```np.array([1, 1, 2]) + np.array([3, 4, -1])```\n",
    "* ```np.array([0, 1, 2, 3, 4, 5])```\n",
    "    \n",
    "#### Answer\n",
    "* ```np.array([4, 3, 0]) + np.array([0, 2, 2])```"
   ]
  },
  {
   "cell_type": "code",
   "execution_count": 14,
   "metadata": {},
   "outputs": [
    {
     "name": "stdout",
     "output_type": "stream",
     "text": [
      "[4 5 2] [4 5 2]\n"
     ]
    }
   ],
   "source": [
    "# Import numpy\n",
    "import numpy as np\n",
    "\n",
    "a1 = np.array([True, 1, 2]) + np.array([3, 4, False])\n",
    "\n",
    "a2 = np.array([4, 3, 0]) + np.array([0, 2, 2])\n",
    "\n",
    "print(a1, a2)"
   ]
  },
  {
   "cell_type": "markdown",
   "metadata": {},
   "source": [
    "## 6. Subsetting Numpy Arrays\n",
    "\n",
    "You've seen it with your own eyes: Python lists and Numpy arrays sometimes behave differently. Luckily, there are still certainties in this world. For example, subsetting (using the square bracket notation on lists or arrays) works exactly the same. To see this for yourself, try the following lines of code in the IPython Shell:\n",
    "```\n",
    "x = [\"a\", \"b\", \"c\"]\n",
    "x[1]\n",
    "\n",
    "np_x = np.array(x)\n",
    "np_x[1]\n",
    "```\n",
    "The script on the right already contains code that imports ```numpy``` as ```np```, and stores both the height and weight of the MLB players as Numpy arrays.\n",
    "\n",
    "### Instructions\n",
    "* Subset np_weight: print out the element at index 50.\n",
    "* Print out a sub-array of np_height: It contains the elements at index 100 up to and including index 110\n"
   ]
  },
  {
   "cell_type": "code",
   "execution_count": 15,
   "metadata": {},
   "outputs": [
    {
     "ename": "IndexError",
     "evalue": "index 50 is out of bounds for axis 0 with size 12",
     "output_type": "error",
     "traceback": [
      "\u001b[1;31m---------------------------------------------------------------------------\u001b[0m",
      "\u001b[1;31mIndexError\u001b[0m                                Traceback (most recent call last)",
      "\u001b[1;32m<ipython-input-15-30492cba040e>\u001b[0m in \u001b[0;36m<module>\u001b[1;34m()\u001b[0m\n\u001b[0;32m      9\u001b[0m \u001b[1;33m\u001b[0m\u001b[0m\n\u001b[0;32m     10\u001b[0m \u001b[1;31m# Print out the weight at index 50\u001b[0m\u001b[1;33m\u001b[0m\u001b[1;33m\u001b[0m\u001b[0m\n\u001b[1;32m---> 11\u001b[1;33m \u001b[0mprint\u001b[0m\u001b[1;33m(\u001b[0m\u001b[0mnp_weight\u001b[0m\u001b[1;33m[\u001b[0m\u001b[1;36m50\u001b[0m\u001b[1;33m]\u001b[0m\u001b[1;33m)\u001b[0m\u001b[1;33m\u001b[0m\u001b[0m\n\u001b[0m\u001b[0;32m     12\u001b[0m \u001b[1;33m\u001b[0m\u001b[0m\n\u001b[0;32m     13\u001b[0m \u001b[1;31m# Print out sub-array of np_height: index 100 up to and including index 110\u001b[0m\u001b[1;33m\u001b[0m\u001b[1;33m\u001b[0m\u001b[0m\n",
      "\u001b[1;31mIndexError\u001b[0m: index 50 is out of bounds for axis 0 with size 12"
     ]
    }
   ],
   "source": [
    "# height and weight are available as a regular lists\n",
    "\n",
    "# Import numpy\n",
    "import numpy as np\n",
    "\n",
    "# Store weight and height lists as numpy arrays\n",
    "np_weight = np.array(weight)\n",
    "np_height = np.array(height)\n",
    "\n",
    "# Print out the weight at index 50\n",
    "print(np_weight[50])\n",
    "\n",
    "# Print out sub-array of np_height: index 100 up to and including index 110\n",
    "print(np_height[100:111])"
   ]
  }
 ],
 "metadata": {
  "kernelspec": {
   "display_name": "Python 3",
   "language": "python",
   "name": "python3"
  },
  "language_info": {
   "codemirror_mode": {
    "name": "ipython",
    "version": 3
   },
   "file_extension": ".py",
   "mimetype": "text/x-python",
   "name": "python",
   "nbconvert_exporter": "python",
   "pygments_lexer": "ipython3",
   "version": "3.6.3"
  }
 },
 "nbformat": 4,
 "nbformat_minor": 2
}
