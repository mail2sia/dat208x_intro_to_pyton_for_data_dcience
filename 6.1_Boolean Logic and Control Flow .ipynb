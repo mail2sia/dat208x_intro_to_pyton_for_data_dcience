{
 "cells": [
  {
   "cell_type": "markdown",
   "metadata": {},
   "source": [
    "# Introduction to Python for Data Science - Chapter 15 Lecture: Boolean Logic and Control Flow \n",
    "\n",
    "<https://courses.edx.org/courses/course-v1:Microsoft+DAT208x+1T2018/course/>\n",
    "\n",
    "<https://www.datacamp.com/courses/introduction-to-python-for-data-science-edx>\n",
    "\n",
    "## 1. Equality\n",
    "\n",
    "To check if two Python values, or variables, are equal, you can use ```==```. To check for inequality, you need ```!=```. As a refresher, have a look at the following examples, that all result in ```True```. Feel free to try them out in the IPython Shell.\n",
    "```\n",
    "2 == (1 + 1)\n",
    "\"intermediate\" != \"python\"\n",
    "True != False\n",
    "\"Python\" != \"python\"\n",
    "```\n",
    "When you write these comparisons in a script, you will need to wrap a ```print()``` function around them, to see the output.\n",
    "\n",
    "### Instructions\n",
    "* In the editor on the right, write code to see if ```True``` equals ```False```.\n",
    "* Write Python code to check if ```-5 * 15``` is not equal to ```75```.\n",
    "* Ask Python whether the strings ```\"pyscript\"``` and ```\"PyScript\"``` are equal.\n",
    "* What happens if you compare booleans and integers? Write code to see if ```True``` and ```1``` are equal.\n"
   ]
  },
  {
   "cell_type": "code",
   "execution_count": 6,
   "metadata": {},
   "outputs": [
    {
     "name": "stdout",
     "output_type": "stream",
     "text": [
      "False\n",
      "True\n",
      "False\n",
      "True\n"
     ]
    }
   ],
   "source": [
    "# Comparison of booleans\n",
    "print(True == False)\n",
    "\n",
    "# Comparison of integers\n",
    "print(-5 * 15 != 75)\n",
    "\n",
    "# Comparison of strings\n",
    "print(\"pyscript\" == \"PyScript\")\n",
    "\n",
    "# Compare a boolean with an integer\n",
    "print(True == 1)"
   ]
  },
  {
   "cell_type": "markdown",
   "metadata": {},
   "source": [
    "## 2. Greater and less than\n",
    "\n",
    "In the video, Filip also talked about the less than and greater than signs, ```<``` and ```>``` in Python. You can combine them with an equals sign: ```<=``` and ```>=```. Pay attention: ```<=``` is valid syntax, ```=<``` is not.\n",
    "\n",
    "All Python expressions in the following code chunk evaluate to ```True```:\n",
    "```\n",
    "3 < 4\n",
    "3 <= 4\n",
    "\"alpha\" <= \"beta\"\n",
    "```\n",
    "Remember that for string comparison, Python determines the relationship based on alphabetical order.\n",
    "\n",
    "### Instructions\n",
    "Write Python expressions, wrapped in a ```print()``` function, to check whether: - ```x``` is greater than or equal to ```-10```. ```x``` has already been defined for you. - ```\"test\"``` is less than or equal to ```y```. ```y``` has already been deinfed for you. - ```True``` is greater than ```False```."
   ]
  },
  {
   "cell_type": "code",
   "execution_count": 8,
   "metadata": {},
   "outputs": [
    {
     "name": "stdout",
     "output_type": "stream",
     "text": [
      "False\n",
      "True\n",
      "True\n"
     ]
    }
   ],
   "source": [
    "# Comparison of integers\n",
    "x = -3 * 6\n",
    "print(x >= -10)\n",
    "\n",
    "# Comparison of strings\n",
    "y = \"test\"\n",
    "print(\"test\" <= y)\n",
    "\n",
    "# Comparison of booleans\n",
    "print(True > False) "
   ]
  },
  {
   "cell_type": "markdown",
   "metadata": {},
   "source": [
    "## 3. and, or, not (1)\n",
    "\n",
    "A boolean is either ```1``` or ```0```, ```True``` or ```False```. With boolean operators, such as ```and```, ```or``` and ```not```, you can combine these booleans to perform more advanced queries on your data.\n",
    "\n",
    "In the sample code on the right, two variables are defined: ```my_kitchen``` and ```your_kitchen```, representing areas.\n",
    "\n",
    "### Instructions\n",
    "Write Python expressions, wrapped in a ```print()``` function, to check whether: - ```my_kitchen``` is bigger than ```10``` and smaller than ```18```. - ```my_kitchen``` is smaller than ```14``` or bigger than ```17```. - double the area of ```my_kitchen``` is smaller than triple the area of ```your_kitchen```."
   ]
  },
  {
   "cell_type": "code",
   "execution_count": 11,
   "metadata": {},
   "outputs": [
    {
     "name": "stdout",
     "output_type": "stream",
     "text": [
      "False\n",
      "True\n",
      "True\n"
     ]
    }
   ],
   "source": [
    "# Define variables\n",
    "my_kitchen = 18.0\n",
    "your_kitchen = 14.0\n",
    "\n",
    "# my_kitchen bigger than 10 and smaller than 18?\n",
    "print(my_kitchen > 10 and my_kitchen < 18)\n",
    "\n",
    "# my_kitchen smaller than 14 or bigger than 17?\n",
    "print(my_kitchen < 14 or my_kitchen > 17)\n",
    "\n",
    "# Double my_kitchen smaller than triple your_kitchen?\n",
    "print(my_kitchen * 2 < your_kitchen * 3)"
   ]
  },
  {
   "cell_type": "markdown",
   "metadata": {},
   "source": [
    "## 4. and, or, not (2)\n",
    "\n",
    "To see if you completely understood the boolean operators, have a look at the following piece of Python code:\n",
    "```\n",
    "x = 8\n",
    "y = 9\n",
    "not(not(x < 3) and not(y > 14 or y > 10))\n",
    "```\n",
    "What will the result be if you exectue these three commands in the IPython Shell?\n",
    "\n",
    "NB: Notice that not has a higher priority than and and or, it is executed first.\n",
    "\n",
    "### Instructions\n",
    "**Possible Answers**\n",
    "* True\n",
    "* False\n",
    "* Running these commands will result in an error.\n",
    "\n",
    "**Answer**\n",
    "\n",
    "* False"
   ]
  },
  {
   "cell_type": "markdown",
   "metadata": {},
   "source": [
    "## 5. Warmup\n",
    "\n",
    "To experiment with if and else a bit, have a look at this code sample:\n",
    "```\n",
    "area = 10.0\n",
    "if(area < 9) :\n",
    "    print(\"small\")\n",
    "elif(area < 12) :\n",
    "    print(\"medium\")\n",
    "else :\n",
    "    print(\"large\")\n",
    "```\n",
    "What will the output be if you run this piece of code in the IPython Shell?\n",
    "\n",
    "### Instructions\n",
    "**Possible Answers**   \n",
    "* small\n",
    "* medium\n",
    "* large\n",
    "* The syntax is incorrect; this code will produce an error.\n",
    "    \n",
    "**Answer**\n",
    "\n",
    "* medium"
   ]
  },
  {
   "cell_type": "markdown",
   "metadata": {},
   "source": [
    "## 6. if\n",
    "\n",
    "It's time to take a closer look around in your house.\n",
    "\n",
    "Two variables are defined in the sample code: ```room```, a string that tells you which room of the house we're looking at, and ```area```, the area of that room.\n",
    "\n",
    "### Instructions\n",
    "* Examine the ```if``` statement that prints out ```\"Looking around in the kitchen.\"``` if ```room``` equals ```\"kit\"```.\n",
    "* Write another ```if``` statement that prints out ```\"big place!\"``` if area is greater than 15.\n"
   ]
  },
  {
   "cell_type": "code",
   "execution_count": 12,
   "metadata": {},
   "outputs": [
    {
     "name": "stdout",
     "output_type": "stream",
     "text": [
      "looking around in the kitchen.\n"
     ]
    }
   ],
   "source": [
    "# Define variables\n",
    "room = \"kit\"\n",
    "area = 14.0\n",
    "\n",
    "# if statement for room\n",
    "if room == \"kit\" :\n",
    "    print(\"looking around in the kitchen.\")\n",
    "\n",
    "# if statement for area\n",
    "if area > 15:\n",
    "    print(\"big place!\")"
   ]
  },
  {
   "cell_type": "markdown",
   "metadata": {},
   "source": [
    "## 7. Add else\n",
    "\n",
    "On the right, the ```if``` construct for ```room``` has been extended with an ```else``` statement so that \"looking around elsewhere.\" is printed if the condition ```room = \"kit\"``` evaluates to ```False```.\n",
    "\n",
    "Can you do a similar thing to add more functionality to the ```if``` construct for ```area```?\n",
    "### Instructions\n",
    "Add an ```else``` statement to the second control structure so that \"pretty small.\" is printed out if ```area > 15``` evaluates to ```False```."
   ]
  },
  {
   "cell_type": "code",
   "execution_count": 13,
   "metadata": {},
   "outputs": [
    {
     "name": "stdout",
     "output_type": "stream",
     "text": [
      "looking around in the kitchen.\n",
      "pretty small.\n"
     ]
    }
   ],
   "source": [
    "# Define variables\n",
    "room = \"kit\"\n",
    "area = 14.0\n",
    "\n",
    "# if-else construct for room\n",
    "if room == \"kit\" :\n",
    "    print(\"looking around in the kitchen.\")\n",
    "else :\n",
    "    print(\"looking around elsewhere.\")\n",
    "\n",
    "# if-else construct for area\n",
    "if area > 15 :\n",
    "    print(\"big place!\")\n",
    "else:\n",
    "    print(\"pretty small.\")"
   ]
  },
  {
   "cell_type": "markdown",
   "metadata": {},
   "source": [
    "## 8. Customize further: elif\n",
    "\n",
    "It's also possible to have a look around in the bedroom: the sample code contains an ```elif``` part that checks if ```room``` equals \"bed\". In that case, \"looking around in the bedroom.\" is printed out.\n",
    "\n",
    "Up to you now: make a similar addition to the second control structure to further customize the messages for different values of ```area```.\n",
    "\n",
    "### Instructions\n",
    "Add an ```elif``` to the second control structure such that \"medium size, nice!\" is printed out if ```area``` is greater than ```10```."
   ]
  },
  {
   "cell_type": "code",
   "execution_count": 14,
   "metadata": {},
   "outputs": [
    {
     "name": "stdout",
     "output_type": "stream",
     "text": [
      "looking around in the bedroom.\n",
      "medium size, nice!\n"
     ]
    }
   ],
   "source": [
    "# Define variables\n",
    "room = \"bed\"\n",
    "area = 14.0\n",
    "\n",
    "# if-elif-else construct for room\n",
    "if room == \"kit\" :\n",
    "    print(\"looking around in the kitchen.\")\n",
    "elif room == \"bed\":\n",
    "    print(\"looking around in the bedroom.\")\n",
    "else :\n",
    "    print(\"looking around elsewhere.\")\n",
    "\n",
    "# if-elif-else construct for area\n",
    "if area > 15 :\n",
    "    print(\"big place!\")\n",
    "elif area > 10:\n",
    "    print(\"medium size, nice!\")\n",
    "else :\n",
    "    print(\"pretty small.\")"
   ]
  },
  {
   "cell_type": "code",
   "execution_count": null,
   "metadata": {},
   "outputs": [],
   "source": []
  }
 ],
 "metadata": {
  "kernelspec": {
   "display_name": "Python 3",
   "language": "python",
   "name": "python3"
  },
  "language_info": {
   "codemirror_mode": {
    "name": "ipython",
    "version": 3
   },
   "file_extension": ".py",
   "mimetype": "text/x-python",
   "name": "python",
   "nbconvert_exporter": "python",
   "pygments_lexer": "ipython3",
   "version": "3.6.3"
  }
 },
 "nbformat": 4,
 "nbformat_minor": 2
}
