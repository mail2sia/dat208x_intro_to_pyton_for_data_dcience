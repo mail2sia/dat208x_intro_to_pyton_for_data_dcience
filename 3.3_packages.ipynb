{
 "cells": [
  {
   "cell_type": "markdown",
   "metadata": {},
   "source": [
    "# Introduction to Python for Data Science - Chapter 8 Packages\n",
    "\n",
    "<https://courses.edx.org/courses/course-v1:Microsoft+DAT208x+1T2018/course/>\n",
    "\n",
    "<https://www.datacamp.com/courses/introduction-to-python-for-data-science-edx>\n",
    "\n",
    "## 1. Import package\n",
    "\n",
    "As a data scientist, some notions of geometry never hurt. Let's refresh some of the basics.\n",
    "\n",
    "For a fancy clustering algorithm, you want to find the circumference C\n",
    "and area A of a circle. When the radius of the circle is ```r```, you can calculate C and A as:\n",
    "```\n",
    "C=2πr\n",
    "A=πr2\n",
    "```\n",
    "To use the constant ```pi```, you'll need the ```math``` package. A variable ```r``` is already coded in the script. Fill in the code to calculate ```C``` and ```A``` and see how the ```print()``` functions create some nice printouts.\n",
    "\n",
    "### Instructions\n",
    "* Import the math package. Now you can access the constant pi with math.pi.\n",
    "* Calculate the circumference of the circle and store it in C.\n",
    "* Calculate the area of the circle and store it in A.\n"
   ]
  },
  {
   "cell_type": "code",
   "execution_count": 14,
   "metadata": {},
   "outputs": [
    {
     "name": "stdout",
     "output_type": "stream",
     "text": [
      "Circumference: 2.701769682087222\n",
      "Area: 0.5808804816487527\n"
     ]
    }
   ],
   "source": [
    "# Definition of radius\n",
    "r = 0.43\n",
    "\n",
    "# Import the math package\n",
    "import math\n",
    "\n",
    "# Calculate C\n",
    "C = 2 * math.pi * r\n",
    "\n",
    "# Calculate A\n",
    "A = math.pi * r**2\n",
    "\n",
    "# Build printout\n",
    "print(\"Circumference: \" + str(C))\n",
    "print(\"Area: \" + str(A))"
   ]
  },
  {
   "cell_type": "markdown",
   "metadata": {},
   "source": [
    "## 2. Selective import\n",
    "\n",
    "General imports, like ```import math```, make all functionality from the ```math``` package available to you. However, if you decide to only use a specific part of a package, you can always make your import more selective:\n",
    "```\n",
    "from math import pi\n",
    "```\n",
    "Let's say the Moon's orbit around planet Earth is a perfect circle, with a radius ```r``` (in km) that is defined in the script.\n",
    "\n",
    "### Instructions\n",
    "* Perform a selective import from the ```math``` package where you only import the ```radians``` function.\n",
    "* Calculate the distance travelled by the Moon over 12 degrees of its orbit. Assign the result to ```dist```. You can calculate this as r∗ϕ, where r is the radius and ϕ is the angle in radians. To convert an angle in degrees to an angle in radians, use the ```radians()``` function, which you just imported.\n",
    "* Print out ```dist```."
   ]
  },
  {
   "cell_type": "code",
   "execution_count": 15,
   "metadata": {},
   "outputs": [
    {
     "name": "stdout",
     "output_type": "stream",
     "text": [
      "40317.10572106901\n"
     ]
    }
   ],
   "source": [
    "# Definition of radius\n",
    "r = 192500\n",
    "\n",
    "# Import radians function of math package\n",
    "from math import radians\n",
    "\n",
    "# Travel distance of Moon if 12 degrees. Store in dist.\n",
    "dist = r * radians(12)\n",
    "\n",
    "# Print out dist\n",
    "print(dist)"
   ]
  },
  {
   "cell_type": "markdown",
   "metadata": {},
   "source": [
    "## 3. Different ways of importing\n",
    "\n",
    "There are several ways to import packages and modules into Python. Depending on the import call, you'll have to use different Python code.\n",
    "\n",
    "Suppose you want to use the function ```inv()```, which is in the ```linalg``` subpackage of the ```scipy``` package. You want to be able to use this function as follows:\n",
    "```\n",
    "my_inv([[1,2], [3,4]])\n",
    "```\n",
    "Which ```import``` statement will you need in order to run the above code without an error?\n",
    "\n",
    "### Instructions\n",
    "Possible Answers\n",
    "* ```import scipy```\n",
    "* ```import scipy.linalg```\n",
    "* ```from scipy.linalg import my_inv```\n",
    "* ```from scipy.linalg import inv as my_inv```\n",
    "\n",
    "### Answer\n",
    "* ```from scipy.linalg import inv as my_inv```"
   ]
  }
 ],
 "metadata": {
  "kernelspec": {
   "display_name": "Python 3",
   "language": "python",
   "name": "python3"
  },
  "language_info": {
   "codemirror_mode": {
    "name": "ipython",
    "version": 3
   },
   "file_extension": ".py",
   "mimetype": "text/x-python",
   "name": "python",
   "nbconvert_exporter": "python",
   "pygments_lexer": "ipython3",
   "version": "3.6.3"
  }
 },
 "nbformat": 4,
 "nbformat_minor": 2
}
