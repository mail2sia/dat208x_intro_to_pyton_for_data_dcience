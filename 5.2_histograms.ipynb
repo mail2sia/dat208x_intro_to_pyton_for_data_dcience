{
 "cells": [
  {
   "cell_type": "markdown",
   "metadata": {},
   "source": [
    "# Introduction to Python for Data Science - Chapter 13 Histograms\n",
    "\n",
    "<https://courses.edx.org/courses/course-v1:Microsoft+DAT208x+1T2018/course/>\n",
    "\n",
    "<https://www.datacamp.com/courses/introduction-to-python-for-data-science-edx>\n",
    "\n",
    "## 1. Build a histogram (1)\n",
    "```life_exp```, the list containing data on the life expectancy for different countries in 2007, is available in your Python shell.\n",
    "\n",
    "To see how life expectancy in different countries is distributed, let's create a histogram of ```life_exp```.\n",
    "\n",
    "```matplotlib.pyplot``` is already available as ```plt```.\n",
    "\n",
    "### Instructions\n",
    "* Use ```plt.hist()``` to create a histogram of the values in ```life_exp```. Do not specify the number of bins; Python will set the number of bins to 10 by default for you.\n",
    "* Add ```plt.show()``` to actually display the histogram. Can you tell which bin contains the most observations?\n",
    "\n"
   ]
  },
  {
   "cell_type": "code",
   "execution_count": 2,
   "metadata": {},
   "outputs": [
    {
     "data": {
      "image/png": "[encoded data removed]",
      "text/plain": [
       "<matplotlib.figure.Figure at 0x881e5d0>"
      ]
     },
     "metadata": {},
     "output_type": "display_data"
    }
   ],
   "source": [
    "# Import matplotlib.pyplot as plt\n",
    "import matplotlib.pyplot as plt\n",
    "\n",
    "life_exp = [ 39.613, 80.884, 81.701000000000022, 74.143000000000001, 78.400000000000006, 52.517000000000003, 70.616,\n",
    "             58.420000000000002, 69.819000000000003, 73.923000000000002, 71.777000000000001, 51.542000000000002,\n",
    "             79.424999999999997, 78.242000000000004, 76.384, 73.747, 74.248999999999995, 73.421999999999997, 62.698,\n",
    "             42.383999999999993, 43.487000000000002]\n",
    "\n",
    "# Create histogram of life_exp data\n",
    "plt.hist(life_exp)\n",
    "\n",
    "# Display histogram\n",
    "plt.show()"
   ]
  },
  {
   "cell_type": "markdown",
   "metadata": {},
   "source": [
    "## 2. Build a histogram (2): bins\n",
    "\n",
    "In the previous exercise, you didn't specify the number of bins. By default, Python sets the number of bins to 10 in that case. The number of bins is pretty important. Too little bins oversimplifies reality, which doesn't show you the details. Too much bins overcomplicates reality and doesn't give the bigger picture.\n",
    "\n",
    "To control the number of bins to divide your data in, you can set the ```bins``` argument.\n",
    "\n",
    "That's exactly what you'll do in this exercise. You'll be making two plots here. The code in the script already includes ```plt.show()``` and ```plt.clf()``` calls; ```plt.show()``` displays a plot; ```plt.clf()``` cleans it up again so you can start afresh.\n",
    "\n",
    "As before, ```life_exp``` is available and ```matploblib.pyplot``` is imported as ```plt```.\n",
    "\n",
    "### Instructions\n",
    "* Build a histogram of ```life_exp```, with ```5``` bins. Can you tell which bin contains the most observations?\n",
    "* Build another histogram of ```life_exp```, this time with ```20``` bins. Is this better?\n"
   ]
  },
  {
   "cell_type": "code",
   "execution_count": 3,
   "metadata": {},
   "outputs": [
    {
     "data": {
      "image/png": "[encoded data removed]",
      "text/plain": [
       "<matplotlib.figure.Figure at 0x88c1a90>"
      ]
     },
     "metadata": {},
     "output_type": "display_data"
    },
    {
     "data": {
      "image/png": "[encoded data removed]",
      "text/plain": [
       "<matplotlib.figure.Figure at 0x88648f0>"
      ]
     },
     "metadata": {},
     "output_type": "display_data"
    },
    {
     "data": {
      "text/plain": [
       "<matplotlib.figure.Figure at 0x887de90>"
      ]
     },
     "metadata": {},
     "output_type": "display_data"
    }
   ],
   "source": [
    "# Build histogram with 5 bins\n",
    "plt.hist(life_exp, bins=5)\n",
    "\n",
    "# Show and clean up plot\n",
    "plt.show()\n",
    "plt.clf()\n",
    "\n",
    "# Build histogram with 20 bins\n",
    "plt.hist(life_exp, bins=20)\n",
    "\n",
    "# Show and clean up again\n",
    "plt.show()\n",
    "plt.clf()"
   ]
  },
  {
   "cell_type": "markdown",
   "metadata": {},
   "source": [
    "## 3. Build a histogram (3): compare\n",
    "\n",
    "In the video, you saw population pyramids for the present day and for the future. Because we were using a histogram, it was very easy to make a comparison.\n",
    "\n",
    "Let's do a similar comparison. ```life_exp``` contains life expectancy data for different countries in 2007. You also have access to a second list now, ```life_exp1950```, containing similar data for 1950. Can you make a histogram for both datasets?\n",
    "\n",
    "You'll again be making two plots. The ```plt.show()``` and ```plt.clf()``` commands to render everything nicely are already included. Also ```matplotlib.pyplot``` is imported for you, as ```plt```.\n",
    "\n",
    "### Instructions\n",
    "* Build a histogram of ```life_exp``` with ```15``` bins.\n",
    "* Build a histogram of ```life_exp1950```, also with ```15``` bins. Is there a big difference with the histogram for the 2007 data?\n"
   ]
  },
  {
   "cell_type": "code",
   "execution_count": 4,
   "metadata": {},
   "outputs": [
    {
     "data": {
      "image/png": "[encoded data removed]",
      "text/plain": [
       "<matplotlib.figure.Figure at 0x4a0a610>"
      ]
     },
     "metadata": {},
     "output_type": "display_data"
    },
    {
     "data": {
      "image/png": "[encoded data removed]",
      "text/plain": [
       "<matplotlib.figure.Figure at 0x4a30c90>"
      ]
     },
     "metadata": {},
     "output_type": "display_data"
    },
    {
     "data": {
      "text/plain": [
       "<matplotlib.figure.Figure at 0x88f0ef0>"
      ]
     },
     "metadata": {},
     "output_type": "display_data"
    }
   ],
   "source": [
    "# Import matplotlib.pyplot as plt\n",
    "import matplotlib.pyplot as plt\n",
    "\n",
    "life_exp = [ 39.613, 80.884, 81.701000000000022, 74.143000000000001, 78.400000000000006, 52.517000000000003, 70.616,\n",
    "             58.420000000000002, 69.819000000000003, 73.923000000000002, 71.777000000000001, 51.542000000000002,\n",
    "             79.424999999999997, 78.242000000000004, 76.384, 73.747, 74.248999999999995, 73.421999999999997, 62.698,\n",
    "             42.383999999999993, 43.487000000000002]\n",
    "life_exp1950 = [ 71.86, 69.62, 45.88, 58.5, 41.22, 50.85, 38.6, 59.1, 44.6, 43.58, 39.98, 69.18, 68.44, 66.07, 55.09, 40.41,\n",
    "                 43.16, 32.55, 42.04, 48.45]\n",
    "\n",
    "# Histogram of life_exp, 15 bins\n",
    "plt.hist(life_exp, bins=15)\n",
    "\n",
    "# Show and clear plot\n",
    "plt.show()\n",
    "plt.clf()\n",
    "\n",
    "# Histogram of life_exp1950, 15 bins\n",
    "plt.hist(life_exp1950, bins=15)\n",
    "\n",
    "# Show and clear plot again\n",
    "plt.show()\n",
    "plt.clf()"
   ]
  },
  {
   "cell_type": "code",
   "execution_count": null,
   "metadata": {},
   "outputs": [],
   "source": []
  }
 ],
 "metadata": {
  "kernelspec": {
   "display_name": "Python 3",
   "language": "python",
   "name": "python3"
  },
  "language_info": {
   "codemirror_mode": {
    "name": "ipython",
    "version": 3
   },
   "file_extension": ".py",
   "mimetype": "text/x-python",
   "name": "python",
   "nbconvert_exporter": "python",
   "pygments_lexer": "ipython3",
   "version": "3.6.3"
  }
 },
 "nbformat": 4,
 "nbformat_minor": 2
}
