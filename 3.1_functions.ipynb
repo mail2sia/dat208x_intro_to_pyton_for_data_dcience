{
 "cells": [
  {
   "cell_type": "markdown",
   "metadata": {},
   "source": [
    "# Introduction to Python for Data Science - Chapter 6 Functions\n",
    "\n",
    "<https://courses.edx.org/courses/course-v1:Microsoft+DAT208x+1T2018/course/>\n",
    "\n",
    "<https://www.datacamp.com/courses/introduction-to-python-for-data-science-edx>\n",
    "\n",
    "## 1. Familiar functions\n",
    "\n",
    "Out of the box, Python offers a bunch of built-in functions to make your life as a data scientist easier. You already know two such functions: ```print()``` and ```type()```. You've also used the functions ```str()```, ```int()```, ```bool()``` and ```float()``` to switch between data type. These are built-in functions as well.\n",
    "\n",
    "Calling a function is easy. To get the type of ```3.0``` and store the output as a new variable, ```result```, you can use the following:\n",
    "```\n",
    "result = type(3.0)\n",
    "```\n",
    "The general recipe for calling functions is thus:\n",
    "```\n",
    "output = function_name(input)\n",
    "```\n",
    "### Instructions\n",
    "* Use ```print()``` in combination with ```type()``` to print out the type of ```var1```.\n",
    "* Use ```len()``` to get the length of the list ```var1```. Wrap it in a ```print()``` call to directly print it out.\n",
    "* Use ```int()``` to convert ```var2``` to an integer. Store the output as ```out2```.\n",
    "\n"
   ]
  },
  {
   "cell_type": "code",
   "execution_count": 15,
   "metadata": {},
   "outputs": [
    {
     "name": "stdout",
     "output_type": "stream",
     "text": [
      "<class 'list'>\n",
      "4\n",
      "1\n"
     ]
    }
   ],
   "source": [
    "# Create variables var1 and var2\n",
    "var1 = [1, 2, 3, 4]\n",
    "var2 = True\n",
    "\n",
    "# Print out type of var1\n",
    "print(type(var1))\n",
    "\n",
    "# Print out length of var1\n",
    "print(len(var1))\n",
    "\n",
    "# Convert var2 to an integer: out2\n",
    "out2 = int(var2)\n",
    "\n",
    "print(out2)"
   ]
  },
  {
   "cell_type": "markdown",
   "metadata": {},
   "source": [
    "## Help!\n",
    "\n",
    "Maybe you already know the name of a Python function, but you still have to figure out how to use it. Ironically, you have to ask for information about a function with another function: ```help()```. In IPython specifically, you can also use ```?``` before the function name.\n",
    "\n",
    "To get help on the ```max()``` function, for example, you can use one of these calls:\n",
    "```\n",
    "help(max)\n",
    "?max\n",
    "```\n",
    "Use the Shell on the right to open up the documentation on ```complex()```. Which of the following statements is true?\n",
    "\n",
    "### Instructions\n",
    "Possible Answers\n",
    "\n",
    "* ```complex()``` takes exactly two arguments: ```real``` and ```[, imag]```.\n",
    "* ```complex()``` takes two arguments: ```real``` and ```imag```. Both these arguments are required.\n",
    "* ```complex()``` takes two arguments: ```real``` and ```imag```. ```real``` is a required argument, ```imag``` is an optional argument.\n",
    "* ```complex()``` takes two arguments: ```real``` and ```imag```. If you don't specify ```imag```, it is set to 1 by Python.\n",
    "\n",
    "### Answer\n",
    "* ```complex()``` takes two arguments: ```real``` and ```imag```. ```real``` is a required argument, ```imag``` is an optional argument."
   ]
  },
  {
   "cell_type": "markdown",
   "metadata": {},
   "source": [
    "## Multiple arguments\n",
    "\n",
    "In the previous exercise, the square brackets around ```imag``` in the documentation showed us that the ```imag``` argument is optional. But Python also uses a different way to tell users about arguments being optional.\n",
    "\n",
    "Have a look at the documentation of ```sorted()``` by typing ```help(sorted)``` in the IPython Shell.\n",
    "\n",
    "You'll see that ```sorted()``` takes three arguments: ```iterable```, ```key``` and ```reverse```.\n",
    "\n",
    "```key=None``` means that if you don't specify the ```key``` argument, it will be ```None```. ```reverse=False``` means that if you don't specify the ```reverse``` argument, it will be ```False```.\n",
    "\n",
    "In this exercise, you'll only have to specify ```iterable``` and ```reverse```, not ```key```. The first input you pass to ```sorted()``` will obviously be matched to the ```iterable``` argument, but what about the second input? To tell Python you want to specify ```reverse``` without changing anything about ```key```, you can use ```=```:\n",
    "```\n",
    "sorted(___, reverse = ___)\n",
    "```\n",
    "Two lists have been created for you on the right. Can you paste them together and sort them in descending order?\n",
    "\n",
    "### Instructions\n",
    "* Use + to merge the contents of first and second into a new list: full.\n",
    "* Call sorted() on full and specify the reverse argument to be True. Save the sorted list as full_sorted.\n",
    "* Finish off by printing out full_sorted.\n"
   ]
  },
  {
   "cell_type": "code",
   "execution_count": 16,
   "metadata": {},
   "outputs": [
    {
     "name": "stdout",
     "output_type": "stream",
     "text": [
      "[11.25, 18.0, 20.0, 10.75, 9.5]\n",
      "[20.0, 18.0, 11.25, 10.75, 9.5]\n"
     ]
    }
   ],
   "source": [
    "# Create lists first and second\n",
    "first = [11.25, 18.0, 20.0]\n",
    "second = [10.75, 9.50]\n",
    "\n",
    "# Paste together first and second: full\n",
    "full = first + second\n",
    "print(full)\n",
    "\n",
    "# Sort full in descending order: full_sorted\n",
    "full_sorted = sorted(full, reverse=True)\n",
    "\n",
    "# Print out full_sorted\n",
    "print(full_sorted)"
   ]
  }
 ],
 "metadata": {
  "kernelspec": {
   "display_name": "Python 3",
   "language": "python",
   "name": "python3"
  },
  "language_info": {
   "codemirror_mode": {
    "name": "ipython",
    "version": 3
   },
   "file_extension": ".py",
   "mimetype": "text/x-python",
   "name": "python",
   "nbconvert_exporter": "python",
   "pygments_lexer": "ipython3",
   "version": "3.6.3"
  }
 },
 "nbformat": 4,
 "nbformat_minor": 2
}
